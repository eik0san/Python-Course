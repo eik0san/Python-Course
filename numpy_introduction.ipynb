{
 "cells": [
  {
   "cell_type": "markdown",
   "metadata": {
    "collapsed": true
   },
   "source": [
    "# Introduction to Numpy and Matplotlib\n",
    "Numpy is a library for scientific computing in Pyhton. In this part of the course you will learn to:\n",
    " * create and display one- and multi-dimensional arrays\n",
    " * load real experimental data from files into arrays\n",
    " * use built-in Numpy functions to analyse the data\n",
    " * use the Matplotlib library to display the results\n",
    " * manipulate the arrays to change their shape and size\n",
    " \n",
    " So let's start! :)"
   ]
  },
  {
   "cell_type": "markdown",
   "metadata": {},
   "source": [
    "The main numpy object is called an array. An array is a collection of items of the same type. For the start, you can imagine the array as a table of numbers. The catch is: an array is a multidimensional object. We will soon learn what this means.\n",
    "To use numpy, we need to _import_ the module. This is done by writing the following at the top of our code:"
   ]
  },
  {
   "cell_type": "code",
   "execution_count": 1,
   "metadata": {
    "collapsed": true
   },
   "outputs": [],
   "source": [
    "import numpy as np"
   ]
  },
  {
   "cell_type": "markdown",
   "metadata": {
    "collapsed": true
   },
   "source": [
    "# Array creation\n",
    "There are many ways to create an array, depending on the purpose. One of the most common ones is np.arange(N), which gives us a 1-D array with N elements, starting from 0 to N-1.  "
   ]
  },
  {
   "cell_type": "code",
   "execution_count": 2,
   "metadata": {},
   "outputs": [
    {
     "name": "stdout",
     "output_type": "stream",
     "text": [
      "[ 0  1  2  3  4  5  6  7  8  9 10 11 12 13 14 15 16 17 18 19]\n"
     ]
    }
   ],
   "source": [
    "A = np.arange(20)\n",
    "print(A)"
   ]
  },
  {
   "cell_type": "markdown",
   "metadata": {},
   "source": [
    "If we need non-integers or a certain spacing between the elements, we use np.linspace() which linearly interpolates\n",
    "between the start and the end element. "
   ]
  },
  {
   "cell_type": "code",
   "execution_count": 5,
   "metadata": {},
   "outputs": [
    {
     "name": "stdout",
     "output_type": "stream",
     "text": [
      "[ 0.          0.44444444  0.88888889  1.33333333  1.77777778  2.22222222\n",
      "  2.66666667  3.11111111  3.55555556  4.        ]\n"
     ]
    }
   ],
   "source": [
    "start_element = 0\n",
    "end_element = 4\n",
    "tot_no_elements = 10\n",
    "\n",
    "B = np.linspace(start_element, end_element, tot_no_elements)\n",
    "print (B)"
   ]
  },
  {
   "cell_type": "markdown",
   "metadata": {},
   "source": [
    "Let's print individual elements or desired range of elements."
   ]
  },
  {
   "cell_type": "code",
   "execution_count": 6,
   "metadata": {},
   "outputs": [
    {
     "name": "stdout",
     "output_type": "stream",
     "text": [
      "0.444444444444\n",
      "[ 1.33333333  1.77777778]\n",
      "[ 0.          0.44444444  0.88888889  1.33333333  1.77777778  2.22222222\n",
      "  2.66666667  3.11111111  3.55555556]\n"
     ]
    }
   ],
   "source": [
    "print (B[1]) # notice that the indexing starts from zero!\n",
    "print (B[3:5])\n",
    "print(B[:-1]) # numpy can also count backwards, -1 is the last element!"
   ]
  },
  {
   "cell_type": "markdown",
   "metadata": {},
   "source": [
    "Let's create some multidimensional arrays and see how to work with them."
   ]
  },
  {
   "cell_type": "code",
   "execution_count": 11,
   "metadata": {},
   "outputs": [
    {
     "name": "stdout",
     "output_type": "stream",
     "text": [
      "[[ 0  1  2  3]\n",
      " [ 4  5  6  7]\n",
      " [ 8  9 10 11]\n",
      " [12 13 14 15]]\n"
     ]
    }
   ],
   "source": [
    "C = np.arange(16).reshape(4,4)\n",
    "print(C)"
   ]
  },
  {
   "cell_type": "code",
   "execution_count": 15,
   "metadata": {},
   "outputs": [
    {
     "name": "stdout",
     "output_type": "stream",
     "text": [
      "[[ 0  1  2  3  4]\n",
      " [ 5  6  7  8  9]\n",
      " [10 11 12 13 14]]\n"
     ]
    }
   ],
   "source": [
    "D =  np.arange(15).reshape(3,5)\n",
    "print(D)"
   ]
  },
  {
   "cell_type": "markdown",
   "metadata": {},
   "source": [
    "The dimensions of a numpy array are called axes. The number of dimensions (axes) is called a rank. To see the number of dimensions of the array, we use np.ndim(). To see the length of each dimension, we use np.shape()."
   ]
  },
  {
   "cell_type": "code",
   "execution_count": 17,
   "metadata": {},
   "outputs": [
    {
     "name": "stdout",
     "output_type": "stream",
     "text": [
      "Number of dimensions\n",
      "2\n",
      "2\n",
      "Shape of the arrays\n",
      "(4, 4)\n",
      "(3, 5)\n"
     ]
    }
   ],
   "source": [
    "print ('Number of dimensions')\n",
    "print(np.ndim(C))\n",
    "print(np.ndim(D))\n",
    "\n",
    "print ('Shape of the arrays')\n",
    "print(np.shape(C))\n",
    "print(np.shape(D))"
   ]
  },
  {
   "cell_type": "markdown",
   "metadata": {},
   "source": [
    "Numpy is a very powerful tool and indexing can be confusing for a beginner. If you get lost, remember to always print\n",
    "your result and check if it makes sense. Let's print some elements from our array D."
   ]
  },
  {
   "cell_type": "code",
   "execution_count": 21,
   "metadata": {},
   "outputs": [
    {
     "name": "stdout",
     "output_type": "stream",
     "text": [
      "7\n"
     ]
    }
   ],
   "source": [
    "print(D[1, 2]) # element in the row number 1 (start counting from zero!)"
   ]
  },
  {
   "cell_type": "markdown",
   "metadata": {},
   "source": [
    "## TO FINISH TODAY (Fri 17 Nov)\n",
    "**examples:**\n",
    " * loading in the array from data example\n",
    " * plotting example (sine function or something super easy) in Matplotlib, basic mode\n",
    " \n",
    " **exercise for them (no given solution prior to them solving):**\n",
    " * loading in Michaels's real neuro data as array (i might put it to .txt instead of .xslx to ease up)\n",
    " * printing the properties of this array (length, ndim, shape..)\n",
    " * plotting the array\n",
    " \n",
    " **-> HERE COMES JASON'S PART WITH THRESHOLDING AND ANALYSIS**"
   ]
  }
 ],
 "metadata": {
  "kernelspec": {
   "display_name": "Python 3",
   "language": "python",
   "name": "python3"
  },
  "language_info": {
   "codemirror_mode": {
    "name": "ipython",
    "version": 3
   },
   "file_extension": ".py",
   "mimetype": "text/x-python",
   "name": "python",
   "nbconvert_exporter": "python",
   "pygments_lexer": "ipython3",
   "version": "3.6.3"
  }
 },
 "nbformat": 4,
 "nbformat_minor": 2
}
